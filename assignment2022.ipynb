{
 "cells": [
  {
   "cell_type": "markdown",
   "id": "further-production",
   "metadata": {},
   "source": [
    "# Introduction to computer programming - Assignment 2022\n",
    "\n",
    "**This assignment is due at the beginning of term 1 of year 2 (exact date to be communicated in early October 2022).**\n",
    "\n",
    "**6 marks are attainable counting towards 5% of the Practical Chemistry 2 module.**"
   ]
  },
  {
   "cell_type": "markdown",
   "id": "reflected-cheat",
   "metadata": {},
   "source": [
    "## Overview\n",
    "\n",
    "Polymerase chain reaction (PCR) is a technique used to replicate specific fragments of a DNA sequence. The PCR technique is routinely used in molecular biology but was brought to the forefront of public awareness by its use in covid diagnostics. The genetic material of covid virus is encoded in RNA molecules, but via an enzymatic retrotranscription process the DNA sequence complementary to the virus RNA sequence is obtained. When combined with kinetic measurements, the PCR technique can be used to quantify the amount of a specific DNA sequence present in a sample, which in turn can be correlated to the amount of virus present in the sample.\n",
    "\n",
    "The specificity of the PCR technique is achieved by the use of 2 short DNA fragments, called primers, that bind to the main DNA sequence and determine the starting and ending points of the target DNA sub-sequence that will be replicated (more detail about this process below). The aim of this assignment is to write a program that, given a large DNA sequence and the position of a target sub-sequence, will find the sequence of 2 primers that would allow the replication of the target sub-sequence via a PCR reaction."
   ]
  },
  {
   "cell_type": "markdown",
   "id": "offensive-facial",
   "metadata": {},
   "source": [
    "## Very brief introduction to DNA and PCR\n",
    "\n",
    "Deoxyribonucleic acid (DNA) are polymers where each monomer (called nucleotide) is formed by a phosphate group, a deoxyribose sugar ring and one of four possible nucleobases: Guanine, Cytosine, Adenine and Thymine. Each DNA molecule (or strand) is characterised by the specific sequence of nucleobases along the chain, and these are reported using the initial of each nucleobase. For example, GGTA represents a DNA strand with 4 nucleotides, with two Guanines followed by a Thymine and an Adenine.\n",
    "\n",
    "![Molecular structured of DNA. Figure modified from an original by Thomas Shafee licensed under a CC-by 4.0 license, available at https://commons.wikimedia.org/wiki/File:DNA_chemical_structure_2.svg](DNA_chemical_structure_2.svg)\n",
    "\n",
    "In physiological conditions, DNA molecules most often appear as dimers of two polymeric chains that bind together via hydrogen bonds between the nucleobases forming a double strand. Bonding between nucleobases is specific giving rise to a specific pairing, Guanine exclusively binds to Cytosine via 3 hydrogen bonds, and Adenine exclusively binds to Thymine via 2 hydrogen bonds. Because of this pairing, the nucleobase sequence of the two strands is intimately related, they are said to be complementary to each other, and it is sufficient to specify the sequence of one of the strands only. It is also important to note that the strands are paired in an antiparallel fashion: a strand running on a 3' to 5' direction is paired with a strand running in the 5' to 3' (this relates to the orientation of the deoxyribose ring, see figure). **By convention DNA sequences are reported in the 3' to 5' direction.**\n",
    "\n",
    "During the PCR reaction, the two strands of DNA are separated (also referred to as melting), and 2 DNA fragments called primers, made of about 20 nucleotides complementary to the original DNA strands, bind to each of the original strands. Replication of the of both DNA strands will take place starting from the primer and going in the 3' to 5' direction in the original strands, until the sequence of DNA bracketed by the two primers is replicated (see figure).\n",
    "\n",
    "![Steps of the PCR protocol. Adapted from https://www.addgene.org/protocols/pcr/](pcr_protocol.png)\n",
    "\n",
    "Note that the primers become part of the sequence of DNA that is replicated.\n",
    "\n",
    "Some considerations are necessary on what are desirable primer properties. Because of the difference in the number of hydrogen bonds, the binding strength between a C-G pair is greater than that of a A-T pair.  \n",
    "* The primer sequence should start and end with C or G, to ensure that the edges of the primer are well bound to the original strand.\n",
    "* To ensure the primer binds well (but not too strongly) to the original strand, primers should contain between 40% and 60% of C and G nucleobases in their sequence.\n",
    "* To avoid the primer from bending upon itself and form an hairpin, a primer should not have significant regions of complementarity within its sequence.\n",
    "* To avoid primers binding to each other instead of the original strand, the two primers should not have significant complementarity between their sequences.\n",
    "\n",
    "For more details on PCR, or DNA in general, you can have a look at the [«Molecular biology of the cell» online book](https://www.ncbi.nlm.nih.gov/books/NBK26837/#A1589)."
   ]
  },
  {
   "cell_type": "markdown",
   "id": "dependent-italian",
   "metadata": {},
   "source": [
    "## Computational task\n",
    "\n",
    "Accompanying this notebook is the [covid_sequence.fasta](covid_sequence.fasta) the DNA sequence retrotranscribed from the RNA of covid's original Wuhan variant, in the conventional FASTA file format. The [covid_genome_annotation.gb](covid_genome_annotation.gb) file contains annotations about what different parts of the sequence encode. For example, the subsequence in between positions 21563 and 25384 has been identified as the gene encoding the virus spike protein that allows it to infect human cells.\n",
    "\n",
    "The goal of this assignment is to write a python stand alone script that asks the user for the name/path to a file containing a DNA sequence in the [FASTA file format](https://en.wikipedia.org/wiki/FASTA_format), and seperately ask the user to input 2 integer numbers in increasing order and separated by a blank space, representing positions in the DNA sequence. The program should output the sequence of two primers that would allow the replication by PCR of the shortest DNA fragment that includes the sub-sequence bound by the positions specified by the user. The output of the program should look like (the actual sequences are arbitrary in the example)\n",
    "\n",
    "    Start primer sequence : CCATACGATAGATTTAGGAG\n",
    "    Reverse primer sequence: GTTATAAGCTAGATACACCC\n",
    "    \n",
    "The start primer should bind to the sequence given in the file, while the reverse primer should bind to the complementary sequence to that given in the file. **All sequences should be reported in the 3' to 5' direction**.\n",
    "\n",
    "The primers must fulfill the following conditions:\n",
    " 1. Primers must be 20 nucleotides long.\n",
    " 2. All nucleotides in the primer must bind to the original sequence.\n",
    " 3. The primer sequence must start and end with C or G.\n",
    " 4. The primer sequence must contain between 40% and 60% of C and G.\n",
    " 5. For each primer, within the first half of the sequence, there must not be a sub-sequence of 5 nucleotides or more that is complementary to a portion of the second half of the primer sequence. This is to make sure the primer does not form a hairpin.\n",
    " \n",
    "Any program that outputs correct primers fulfilling conditions 1 to 5, given an arbitrary FASTA file and any two positions in the sequence, will be awarded 5 marks. 1 extra mark will be awarded if the primers output by the program fulfill conditions 1 to 6, allowing for the replication of the shortest DNA fragment including the sub-sequence specified by the user.\n",
    "\n",
    " 6. The two primers must not have a region of complementarity of 5 or more nucleotides.\n",
    "\n",
    "If an adequate start or reverse primer is not found for the sequence and positions specified, the program should not report any sequence for that primer. For example, if the reverse primer is not found, the program should output something like\n",
    "\n",
    "    Start primer sequence : CCATACGATAGATTTAGGAG\n",
    "    Reverse primer sequence:"
   ]
  },
  {
   "cell_type": "markdown",
   "id": "stylish-moral",
   "metadata": {},
   "source": [
    "## Suggested implementation\n",
    "\n",
    "Any program providing correct general solutions under the conditions above will be awarded full marks.\n",
    "\n",
    "Use the template in the `PCR_primers.py` file to structure your code.\n",
    "\n",
    "It is possible to assemble a working program by implementing and using the functions below. Partial marks will be awarded for working implementation of the following functions.\n",
    "\n",
    "### readin_fasta(*string*) - (1 mark)\n",
    "\n",
    "Given a *string* with a file name/path of a FASTA file, the function `readin_fasta` returns one string with the DNA sequence (no spaces or gaps) contained in the file.\n",
    "\n",
    "### CG_edge(*string*) - (0.5 marks)\n",
    "\n",
    "Given a *string* with a DNA sequence as an argument, the function `CG_edge` returns a boolean indicating if the argument string starts and ends with a 'G' or a 'C'.\n",
    "\n",
    "### CG_count(*string*) - (0.5 marks)\n",
    "\n",
    "Given a *string* with a DNA sequence as an argument, the function `CG_count` returns an integer with the number of 'C' and 'G' present in the string.\n",
    "\n",
    "### reverse_complement(*string*) - (1 mark)\n",
    "\n",
    "Given a *string* with a DNA sequence as an argument, the function `reverse_complement` returns a string consisting of a DNA sequence that is complementary of, and in reverse order with respect to the input string. For example, for an input string 'CATGG', the output of the function should be 'CCATG'.\n",
    "\n",
    "### complement5(*string1*,*string2*) - (1 mark)\n",
    "\n",
    "Given 2 strings as arguments, each containing a DNA sequence, the function `complement5` returns a boolean indicating if there exists a contiguous sub-fragment of length 5 or above in *string1* that can pair up with a fragment of *string2*."
   ]
  },
  {
   "cell_type": "markdown",
   "id": "choice-setting",
   "metadata": {},
   "source": [
    "## Testing your program\n",
    "\n",
    "The program will be tested the `covid_sequence.fasta` targeting the position of the spike protein, or any other fragment of the sequence, as well as a blind test with a different FASTA file containing one distinct DNA sequence. If the program outputs correct results in the conditions described above, it will be awarded 5 marks if the program can find primers obeying conditions 1 to 5 above, or 6 marks if the program can find primers obeying conditions 1 to 6.\n",
    "\n",
    "It is important that the output of the program follows the format described, and includes the strings 'Start primer sequence :' and 'Reverse primer sequence :', as these will be used while processing the output of the program.\n",
    "\n",
    "If the program does not output the correct results, but the functions defined within are importable and follow the suggested implementation, these will be tested for partial marks. *Make sure you can import the functions you have defined*. Make sure that the functions are named and receive arguments as per suggest implementation."
   ]
  }
 ],
 "metadata": {
  "kernelspec": {
   "display_name": "Python 3.9.6 64-bit",
   "language": "python",
   "name": "python3"
  },
  "language_info": {
   "codemirror_mode": {
    "name": "ipython",
    "version": 3
   },
   "file_extension": ".py",
   "mimetype": "text/x-python",
   "name": "python",
   "nbconvert_exporter": "python",
   "pygments_lexer": "ipython3",
   "version": "3.9.6"
  },
  "vscode": {
   "interpreter": {
    "hash": "f6c8f846148a3e4d140e6ddf63c190cff559dcf260a4a21539f0978f2b58638c"
   }
  }
 },
 "nbformat": 4,
 "nbformat_minor": 5
}
